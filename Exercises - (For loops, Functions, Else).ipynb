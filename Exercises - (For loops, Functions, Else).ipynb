{
 "cells": [
  {
   "cell_type": "code",
   "execution_count": 1,
   "metadata": {},
   "outputs": [
    {
     "data": {
      "text/plain": [
       "'All exercises were taken from:\\nhttps://pynative.com/python-if-else-and-for-loop-exercise-with-solutions/\\n'"
      ]
     },
     "execution_count": 1,
     "metadata": {},
     "output_type": "execute_result"
    }
   ],
   "source": [
    "'''All exercises were taken from:\n",
    "https://pynative.com/python-if-else-and-for-loop-exercise-with-solutions/\n",
    "'''"
   ]
  },
  {
   "cell_type": "code",
   "execution_count": 2,
   "metadata": {},
   "outputs": [
    {
     "name": "stdout",
     "output_type": "stream",
     "text": [
      "Enter a number:5\n",
      "1\n",
      "2\n",
      "3\n",
      "4\n",
      "5\n",
      "The sum of 1 through 5 is 15.\n"
     ]
    }
   ],
   "source": [
    "'''Have the user input n number and calculate the sum of all numbers\n",
    "from 1 to n\n",
    "Ex.\n",
    "    If user inputs 5 then the following should be:\n",
    "        1 + 2 + 3 + 4 + 5 = 15\n",
    "        \n",
    "Logic:\n",
    "    I know that a for loop would be needed, because we are iterating by 1.\n",
    "    I want to make sure that I am correctly outputing the values. I will also\n",
    "    need another variable to store the sum of the numbers.\n",
    "'''\n",
    "\n",
    "nNum = int(input('Enter a number:'))\n",
    "sumNum = 0\n",
    "# Another format for the for loop, is replacing nNum with\n",
    "# range(start, stop, step) -> range(1, nNum, 1)\n",
    "# Where step is the increments\n",
    "for i in range(nNum):\n",
    "    print(i + 1)\n",
    "    sumNum += (i + 1)\n",
    "    \n",
    "print('The sum of 1 through {} is {}.'.format(nNum, sumNum))"
   ]
  },
  {
   "cell_type": "code",
   "execution_count": 3,
   "metadata": {},
   "outputs": [
    {
     "name": "stdout",
     "output_type": "stream",
     "text": [
      "Enter a number for its multiplication table:8\n",
      "8 * 1 = 8\n",
      "8 * 2 = 16\n",
      "8 * 3 = 24\n",
      "8 * 4 = 32\n",
      "8 * 5 = 40\n",
      "8 * 6 = 48\n",
      "8 * 7 = 56\n",
      "8 * 8 = 64\n",
      "8 * 9 = 72\n",
      "8 * 10 = 80\n",
      "8 * 11 = 88\n",
      "8 * 12 = 96\n"
     ]
    }
   ],
   "source": [
    "'''Have the user input n number and print out its multiplication table up to 12\n",
    "Ex.\n",
    "    If the user inputs 3 then the following should be:\n",
    "        3 6 9 12 15 18 21 24 27 ...\n",
    "\n",
    "Logic:\n",
    "'''\n",
    "\n",
    "nNum = int(input('Enter a number for its multiplication table:'))\n",
    "\n",
    "for i in range(1, 13):\n",
    "    print('{} * {} = {}'.format(nNum, i, (nNum * i)))"
   ]
  },
  {
   "cell_type": "code",
   "execution_count": 4,
   "metadata": {},
   "outputs": [
    {
     "name": "stdout",
     "output_type": "stream",
     "text": [
      "2002\n",
      "2009\n",
      "2016\n",
      "2023\n",
      "2037\n",
      "2044\n",
      "2051\n",
      "2058\n",
      "2072\n",
      "2079\n",
      "2086\n",
      "2093\n",
      "2107\n",
      "2114\n",
      "2121\n",
      "2128\n",
      "2142\n",
      "2149\n",
      "2156\n",
      "2163\n",
      "2177\n",
      "2184\n",
      "2191\n",
      "2198\n",
      "2212\n",
      "2219\n",
      "2226\n",
      "2233\n",
      "2247\n",
      "2254\n",
      "2261\n",
      "2268\n",
      "2282\n",
      "2289\n",
      "2296\n",
      "2303\n",
      "2317\n",
      "2324\n",
      "2331\n",
      "2338\n",
      "2352\n",
      "2359\n",
      "2366\n",
      "2373\n",
      "2387\n",
      "2394\n",
      "2401\n",
      "2408\n",
      "2422\n",
      "2429\n",
      "2436\n",
      "2443\n",
      "2457\n",
      "2464\n",
      "2471\n",
      "2478\n",
      "2492\n",
      "2499\n",
      "2506\n",
      "2513\n",
      "2527\n",
      "2534\n",
      "2541\n",
      "2548\n",
      "2562\n",
      "2569\n",
      "2576\n",
      "2583\n",
      "2597\n",
      "2604\n",
      "2611\n",
      "2618\n",
      "2632\n",
      "2639\n",
      "2646\n",
      "2653\n",
      "2667\n",
      "2674\n",
      "2681\n",
      "2688\n",
      "2702\n",
      "2709\n",
      "2716\n",
      "2723\n",
      "2737\n",
      "2744\n",
      "2751\n",
      "2758\n",
      "2772\n",
      "2779\n",
      "2786\n",
      "2793\n",
      "2807\n",
      "2814\n",
      "2821\n",
      "2828\n",
      "2842\n",
      "2849\n",
      "2856\n",
      "2863\n",
      "2877\n",
      "2884\n",
      "2891\n",
      "2898\n",
      "2912\n",
      "2919\n",
      "2926\n",
      "2933\n",
      "2947\n",
      "2954\n",
      "2961\n",
      "2968\n",
      "2982\n",
      "2989\n",
      "2996\n",
      "3003\n",
      "3017\n",
      "3024\n",
      "3031\n",
      "3038\n",
      "3052\n",
      "3059\n",
      "3066\n",
      "3073\n",
      "3087\n",
      "3094\n",
      "3101\n",
      "3108\n",
      "3122\n",
      "3129\n",
      "3136\n",
      "3143\n",
      "3157\n",
      "3164\n",
      "3171\n",
      "3178\n",
      "3192\n",
      "3199\n"
     ]
    }
   ],
   "source": [
    "'''Write a program that will find numbers that are divisible by 7 but not\n",
    "a multiple of 5, between 2000 and 3200\n",
    "\n",
    "Logic:\n",
    "    We want to find numbers that are divisible by 7 but not by 5. I used the\n",
    "    modulus operator because if i is divisible by 7 then the remainder should\n",
    "    be zero. Same thing for 5. We want to include 2000 and 3200, we added 3201\n",
    "    to include 3200 but not 3201.\n",
    "'''\n",
    "\n",
    "for i in range(2000, 3201):\n",
    "    if (i%7 == 0) and (i%5 != 0):\n",
    "        print(i)"
   ]
  },
  {
   "cell_type": "code",
   "execution_count": 5,
   "metadata": {},
   "outputs": [
    {
     "name": "stdout",
     "output_type": "stream",
     "text": [
      "Enter a number:7\n",
      "1\n",
      "2\n",
      "6\n",
      "24\n",
      "120\n",
      "720\n",
      "5040\n",
      "7! = 5040\n"
     ]
    }
   ],
   "source": [
    "''' Make a function that computes the factorial of a given number\n",
    "Ex.\n",
    "    5! = 5*4*3*2*1 = 120\n",
    "    \n",
    "Logic:\n",
    "'''\n",
    "def factorial(num):\n",
    "    result = 1\n",
    "    for i in range(1, num + 1):\n",
    "        result = result * i\n",
    "        print(result)\n",
    "    return result\n",
    "\n",
    "Usernum = int(input('Enter a number:'))\n",
    "print('{}! = {}'.format(Usernum, factorial(Usernum)))"
   ]
  },
  {
   "cell_type": "code",
   "execution_count": 9,
   "metadata": {},
   "outputs": [
    {
     "name": "stdout",
     "output_type": "stream",
     "text": [
      "Welcome to the Rock, Paper, Scissors game!\n",
      "Choose: Rock, Paper, or Scissors Scissors\n",
      "Computer choose: Paper\n",
      "You win!\n"
     ]
    }
   ],
   "source": [
    "''' Make a Rock, Paper, Scissors game between a user and the computer!\n",
    "'''\n",
    "\n",
    "import random\n",
    "\n",
    "print('Welcome to the Rock, Paper, Scissors game!')\n",
    "# UserName = input('Please enter your name:')\n",
    "\n",
    "UserChoice = input('Choose: Rock, Paper, or Scissors ')\n",
    "\n",
    "if (UserChoice == \"Rock\" or UserChoice == \"Paper\" or UserChoice == \"Scissors\"):\n",
    "    Computer = [\"Rock\", \"Paper\", \"Scissors\"]\n",
    "    ComputerChoice = random.choice(Computer)\n",
    "    if (ComputerChoice == \"Rock\" and UserChoice == \"Rock\"):\n",
    "        print('Computer choose: {}'.format(ComputerChoice))\n",
    "        print(\"It's a tie!\")\n",
    "    elif (ComputerChoice == \"Rock\" and UserChoice == \"Paper\"):\n",
    "        print('Computer choose: {}'.format(ComputerChoice))\n",
    "        print(\"You win!\")\n",
    "    elif (ComputerChoice == \"Rock\" and UserChoice == \"Scissors\"):\n",
    "        print('Computer choose: {}'.format(ComputerChoice))\n",
    "        print(\"Computer wins! Better luck next time!\")\n",
    "    elif (ComputerChoice == \"Paper\" and UserChoice == \"Paper\"):\n",
    "        print('Computer choose: {}'.format(ComputerChoice))\n",
    "        print(\"It's a tie!\")\n",
    "    elif (ComputerChoice == \"Paper\" and UserChoice == \"Scissors\"):\n",
    "        print('Computer choose: {}'.format(ComputerChoice))\n",
    "        print(\"You win!\")\n",
    "    elif (ComputerChoice == \"Paper\" and UserChoice == \"Rock\"):\n",
    "        print('Computer choose: {}'.format(ComputerChoice))\n",
    "        print(\"Computer wins! Better luck next time!\")\n",
    "    elif (ComputerChoice == \"Scissors\" and UserChoice == \"Scissors\"):\n",
    "        print('Computer choose: {}'.format(ComputerChoice))\n",
    "        print(\"It's a tie!\")\n",
    "    elif (ComputerChoice == \"Scissors\" and UserChoice == \"Paper\"):\n",
    "        print('Computer choose: {}'.format(ComputerChoice))\n",
    "        print(\"Computer wins! Better luck next time!\")\n",
    "    else:\n",
    "        print('Computer choose: {}'.format(ComputerChoice))\n",
    "        print(\"You win!\")\n",
    "else:\n",
    "    print(\"Invalid choice. Please try again\")\n"
   ]
  },
  {
   "cell_type": "code",
   "execution_count": 11,
   "metadata": {},
   "outputs": [
    {
     "name": "stdout",
     "output_type": "stream",
     "text": [
      "Enter a radius:5\n",
      "The circumference of your circle is:  31.41592653589793\n"
     ]
    }
   ],
   "source": [
    "'''Make a function that calculates the circumference and area of a cicle, where\n",
    "the user enters a radius.\n",
    "Ex.\n",
    "    C = 2 * pi * radius\n",
    "'''\n",
    "import math\n",
    "\n",
    "def circumference(radius):\n",
    "    C = 2 * math.pi * radius\n",
    "    return C\n",
    "\n",
    "UserRadius = int(input(\"Enter a radius:\"))\n",
    "print(\"The circumference of your circle is: \", circumference(UserRadius))"
   ]
  },
  {
   "cell_type": "code",
   "execution_count": null,
   "metadata": {},
   "outputs": [],
   "source": []
  }
 ],
 "metadata": {
  "kernelspec": {
   "display_name": "Python 3",
   "language": "python",
   "name": "python3"
  },
  "language_info": {
   "codemirror_mode": {
    "name": "ipython",
    "version": 3
   },
   "file_extension": ".py",
   "mimetype": "text/x-python",
   "name": "python",
   "nbconvert_exporter": "python",
   "pygments_lexer": "ipython3",
   "version": "3.8.1"
  }
 },
 "nbformat": 4,
 "nbformat_minor": 4
}
